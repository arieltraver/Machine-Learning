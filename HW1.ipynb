{
  "nbformat": 4,
  "nbformat_minor": 0,
  "metadata": {
    "colab": {
      "name": "Copy of 6.036_Homework1_Spring2022.ipynb",
      "provenance": [],
      "collapsed_sections": [],
      "include_colab_link": true
    },
    "kernelspec": {
      "name": "python3",
      "display_name": "Python 3"
    },
    "language_info": {
      "name": "python"
    }
  },
  "cells": [
    {
      "cell_type": "markdown",
      "metadata": {
        "id": "view-in-github",
        "colab_type": "text"
      },
      "source": [
        "<a href=\"https://colab.research.google.com/github/arieltraver/Machine-Learning/blob/main/HW1.ipynb\" target=\"_parent\"><img src=\"https://colab.research.google.com/assets/colab-badge.svg\" alt=\"Open In Colab\"/></a>"
      ]
    },
    {
      "cell_type": "markdown",
      "source": [
        "# 6.036 Spring 2022 Homework 1\n",
        "\n",
        "**If you haven't already, please hit :**\n",
        "\n",
        "`File` -> `Save a Copy in Drive`\n",
        "\n",
        "**to copy this notebook to your Google drive, and work on a copy. If you don't do this, your changes won't be saved!**"
      ],
      "metadata": {
        "id": "USxWiWVJmnAk"
      }
    },
    {
      "cell_type": "code",
      "source": [
        ""
      ],
      "metadata": {
        "id": "_DaQvfrOjoGt"
      },
      "execution_count": null,
      "outputs": []
    },
    {
      "cell_type": "markdown",
      "metadata": {
        "id": "T6fMHkONg6wm"
      },
      "source": [
        "## Intro to Colab\n",
        "\n",
        "Hello! Welcome to Colab! This colab notebook is intended to be a space for you to draft, debug, and test your code for Homework 1.\n",
        "\n",
        "Two things to note:\n",
        "\n",
        "* Any debugging should be done here instead of the homework page, as you'll get much more helpful output messages here.\n",
        "\n",
        "* As a reminder, you need to copy your answer to the homework page and hit `Submit` to actually claim your points.\n",
        "\n",
        "\n",
        "A Colab notebook is a Google-hosted IPython/Jupyter notebook. Think of it as a place where you can write and run Python code, and carry over variables between snippets (a.k.a. cells) of code.\n",
        "\n",
        "If you're already familiar with Colab and/or Jupyter notebooks, feel free to skip ahead to problem 1. If you're unfamiliar with Colab, you may want to take a look at: https://colab.research.google.com/notebooks/basic_features_overview.ipynb"
      ]
    },
    {
      "cell_type": "code",
      "metadata": {
        "id": "BPsFUAMxu1sq"
      },
      "source": [
        "# Hi! I am a code cell! You can run me by hovering over [] to the left and hitting 'play'!\n",
        "print('Hello! You just ran a cell!')"
      ],
      "execution_count": null,
      "outputs": []
    },
    {
      "cell_type": "markdown",
      "source": [
        "## Homework 1\n",
        "\n",
        "For each homework, we will provide you with test cases to use to debug your code. Note that these test cases may not be comprehensive: you may pass all the test cases but still have other bugs that cause you to fail the online checker. You can download the relevant Python file using the following cell."
      ],
      "metadata": {
        "id": "SbBvVOC_nXK3"
      }
    },
    {
      "cell_type": "code",
      "execution_count": null,
      "metadata": {
        "id": "FPLoqIc2eKDW"
      },
      "outputs": [],
      "source": [
        "# Run this cell to download the test functions for HW 1\n",
        "!rm -f hw01_tests.py\n",
        "!wget --quiet --no-check-certificate https://introml.odl.mit.edu/cat-soop/_static/6.036/homework/hw01/hw01_tests.py\n",
        "from hw01_tests import *"
      ]
    },
    {
      "cell_type": "markdown",
      "source": [
        "To look at the test functions more closely, click on the 📁 icon on the sidebar and double-click the `hw01_tests.py` file to open it in a new window. **We leave it to you to implement the relevant code for each problem and test it, though hopefully it will be easy to match test function to problem via the function names and comments.** Of course, if you ever have any questions, feel free to come to office hours or post on Piazza.\n",
        "\n",
        "Since this is the first homework, here are some examples as to how you might implement your code and test it, using the first few homework problems."
      ],
      "metadata": {
        "id": "WA4PdJPFowNS"
      }
    },
    {
      "cell_type": "code",
      "source": [
        "import numpy as np"
      ],
      "metadata": {
        "id": "WiqQtK07p3vT"
      },
      "execution_count": null,
      "outputs": []
    },
    {
      "cell_type": "markdown",
      "source": [
        "### 1.1.1) Creating Arrays"
      ],
      "metadata": {
        "id": "yOkpI-qzqP_s"
      }
    },
    {
      "cell_type": "code",
      "source": [
        "# Implement your code here\n",
        "A = None  # Your Code Here!"
      ],
      "metadata": {
        "id": "sjYPRlX7qLs1"
      },
      "execution_count": null,
      "outputs": []
    },
    {
      "cell_type": "code",
      "source": [
        "# Test your code\n",
        "# Please open hw01_tests.py, find this test, and read over the tests\n",
        "TestCreateArray(A)"
      ],
      "metadata": {
        "id": "Tx3GppmSqcDN"
      },
      "execution_count": null,
      "outputs": []
    },
    {
      "cell_type": "markdown",
      "source": [
        "### 1.1.2) Transpose\n"
      ],
      "metadata": {
        "id": "5vbx3c1sqtTf"
      }
    },
    {
      "cell_type": "code",
      "source": [
        "def tp(A):\n",
        "    pass"
      ],
      "metadata": {
        "id": "fyzqbA9pqfTO"
      },
      "execution_count": null,
      "outputs": []
    },
    {
      "cell_type": "code",
      "source": [
        "TestTranspose(tp)"
      ],
      "metadata": {
        "id": "YPgOhnzcq5p2"
      },
      "execution_count": null,
      "outputs": []
    },
    {
      "cell_type": "markdown",
      "source": [
        "Good luck with homework 1!"
      ],
      "metadata": {
        "id": "1Y64nNJVrKeW"
      }
    },
    {
      "cell_type": "code",
      "source": [
        "import numpy as np\n",
        "A1 = np.array([[5,7,10,14],[2,4,8,9]])\n",
        "A1_slice = A1[0:1,1:3]\n",
        "print(A1_slice)"
      ],
      "metadata": {
        "id": "9iw4-HQHR3qs"
      },
      "execution_count": null,
      "outputs": []
    },
    {
      "cell_type": "code",
      "source": [
        "A2 = np.array([[5, 7, 10, 14],[2,4,8,9]])\n",
        "A2_slice = A2[1, 1:3]\n",
        "print(A2_slice)"
      ],
      "metadata": {
        "id": "83iwp0JILVxV"
      },
      "execution_count": null,
      "outputs": []
    },
    {
      "cell_type": "code",
      "source": [
        "value_list = [1,2,3,4,5]\n",
        "vals = np.asarray(value_list)\n",
        "vals = np.reshape(value_list, (1,len(value_list)))\n",
        "print(vals)"
      ],
      "metadata": {
        "id": "Yz7VLSJyQr8R"
      },
      "execution_count": null,
      "outputs": []
    },
    {
      "cell_type": "code",
      "source": [
        "#Euclidean Length\n",
        "import numpy\n",
        "import math\n",
        "\n",
        "def length(col_v):\n",
        "    vals = col_v * col_v #squares everything\n",
        "    vals = vals.T #turns into row vector\n",
        "    vals = vals[0]\n",
        "    ones = numpy.ones(len(vals), dtype=int) #row of ones\n",
        "    result = numpy.dot(vals, ones) #sums up all terms\n",
        "    result = math.pow(result, 0.5)\n",
        "    return result\n",
        "length(numpy.array([[1],[2],[3],[4],[5]]))"
      ],
      "metadata": {
        "colab": {
          "base_uri": "https://localhost:8080/"
        },
        "id": "eBnCWFc-jqLy",
        "outputId": "2d3095bd-7a5e-4bcc-c6b6-dfdc0754494e"
      },
      "execution_count": 7,
      "outputs": [
        {
          "output_type": "stream",
          "name": "stdout",
          "text": [
            "[ 1  4  9 16 25]\n",
            "55\n"
          ]
        },
        {
          "output_type": "execute_result",
          "data": {
            "text/plain": [
              "7.416198487095663"
            ]
          },
          "metadata": {},
          "execution_count": 7
        }
      ]
    }
  ]
}